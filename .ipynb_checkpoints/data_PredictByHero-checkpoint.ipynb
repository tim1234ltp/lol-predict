{
 "cells": [
  {
   "cell_type": "markdown",
   "metadata": {},
   "source": [
    "### About\n",
    "\n",
    "This is the notebook for preparing data for hero_prediction model.\n"
   ]
  },
  {
   "cell_type": "code",
   "execution_count": 82,
   "metadata": {
    "collapsed": true
   },
   "outputs": [],
   "source": [
    "import pandas as pd"
   ]
  },
  {
   "cell_type": "code",
   "execution_count": 83,
   "metadata": {},
   "outputs": [],
   "source": [
    "df = pd.read_csv('cleanData.csv')"
   ]
  },
  {
   "cell_type": "code",
   "execution_count": 84,
   "metadata": {},
   "outputs": [
    {
     "name": "stdout",
     "output_type": "stream",
     "text": [
      "136\n"
     ]
    }
   ],
   "source": [
    "champions = df.championid.unique().tolist()\n",
    "championsNumber = len(champions)\n",
    "print(championsNumber)"
   ]
  },
  {
   "cell_type": "markdown",
   "metadata": {},
   "source": [
    "#### NOTE:\n",
    "\n",
    "The most recent patch version appears in the datasets is 7.10 (ie around May 17\n",
    "2017). Number of champions play can choose is 136.\n"
   ]
  },
  {
   "cell_type": "code",
   "execution_count": null,
   "metadata": {},
   "outputs": [
    {
     "data": {
      "text/plain": [
       "273"
      ]
     },
     "execution_count": 85,
     "metadata": {},
     "output_type": "execute_result"
    }
   ],
   "source": [
    "#creating columns name\n",
    "team1champions = [0] * (championsNumber)\n",
    "for i in range(len(team1champions)):\n",
    "    team1champions[i] = \"t1_\"+str(champions[i])  \n",
    "team2champions = [0] * (championsNumber)\n",
    "for i in range(len(team2champions)):\n",
    "    team2champions[i] = \"t2_\"+str(champions[i])  \n",
    "resultantCols = team1champions\n",
    "resultantCols.extend(team2champions)\n",
    "resultantCols.append('team1Win')\n",
    "len(resultantCols)"
   ]
  },
  {
   "cell_type": "code",
   "execution_count": null,
   "metadata": {},
   "outputs": [],
   "source": [
    "rows_list = []\n",
    "tempRow = [0] * (2*championsNumber)\n",
    "for idx, x in df['championid'].iteritems():\n",
    "    \n",
    "    if((idx+1)%10!=0 and (idx+1)%10<6):#team1 selection\n",
    "        i = champions.index(x)\n",
    "        tempRow[i] = 1.0\n",
    "    else:#team2 selection\n",
    "        i = champions.index(x)\n",
    "        tempRow[2*i+1] = 1.0\n",
    "    \n",
    "    \n",
    "    #new match, reset the tempRow    \n",
    "    if((idx+1)%10==0):         \n",
    "        winOrNot = df.get_value(idx, 'win')\n",
    "        if(winOrNot==1):   #ie team 2 win\n",
    "            winOrNot = -1.0 #ie team 1 lose\n",
    "        else:\n",
    "            winOrNot = 1.0\n",
    "        \n",
    "        tempRow.append(winOrNot)\n",
    "        \n",
    "        #we need champions with two times\n",
    "        tempD = dict(zip(resultantCols ,tempRow))\n",
    "        rows_list.append(tempD)\n",
    "        tempRow = [0] * (2*championsNumber)   \n",
    "        \n"
   ]
  },
  {
   "cell_type": "code",
   "execution_count": null,
   "metadata": {},
   "outputs": [],
   "source": [
    "heroSelect = pd.DataFrame(rows_list)\n",
    "\n",
    "#sorting team1 heros after team2 and team1Win as the first column\n",
    "heroSelect.reindex_axis(sorted(heroSelect.columns), axis=1)\n",
    "cols = heroSelect.columns.tolist()\n",
    "cols.insert(0, cols.pop(cols.index('team1Win')))\n",
    "heroSelect = heroSelect.reindex(columns=cols)"
   ]
  },
  {
   "cell_type": "code",
   "execution_count": null,
   "metadata": {},
   "outputs": [],
   "source": [
    "heroSelect.to_csv('heroSelect.csv')\n",
    "heroSelect.head(20)"
   ]
  }
 ],
 "metadata": {
  "kernelspec": {
   "display_name": "Python 3",
   "language": "python",
   "name": "python3"
  },
  "language_info": {
   "codemirror_mode": {
    "name": "ipython",
    "version": 3
   },
   "file_extension": ".py",
   "mimetype": "text/x-python",
   "name": "python",
   "nbconvert_exporter": "python",
   "pygments_lexer": "ipython3",
   "version": "3.5.3"
  }
 },
 "nbformat": 4,
 "nbformat_minor": 2
}
