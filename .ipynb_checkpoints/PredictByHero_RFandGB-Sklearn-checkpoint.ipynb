{
 "cells": [
  {
   "cell_type": "markdown",
   "metadata": {},
   "source": [
    "### About\n",
    "\n",
    "This is the notebook for building PredictionByHero model using random forest (RF) and gradient boosting (GB)."
   ]
  },
  {
   "cell_type": "code",
   "execution_count": 1,
   "metadata": {
    "collapsed": true
   },
   "outputs": [],
   "source": [
    "import numpy as np\n",
    "import pandas as pd\n",
    "from sklearn.ensemble import RandomForestClassifier\n",
    "from sklearn.ensemble import GradientBoostingClassifier\n",
    "from sklearn.model_selection import train_test_split\n",
    "from sklearn.metrics import accuracy_score"
   ]
  },
  {
   "cell_type": "code",
   "execution_count": 2,
   "metadata": {
    "collapsed": true
   },
   "outputs": [],
   "source": [
    "#load and randomise data\n",
    "dataset = pd.read_csv('heroSelect.csv', index_col = 0)\n",
    "dataset = dataset.take(np.random.permutation(len(dataset)))"
   ]
  },
  {
   "cell_type": "code",
   "execution_count": 3,
   "metadata": {},
   "outputs": [
    {
     "name": "stdout",
     "output_type": "stream",
     "text": [
      "dataset (173365, 273)\n",
      "train: (156028, 273) test: (17337, 273)\n"
     ]
    }
   ],
   "source": [
    "print('dataset', dataset.shape)\n",
    "train, test = train_test_split(dataset, test_size = 0.1)\n",
    "print('train:', train.shape, 'test:', test.shape)"
   ]
  },
  {
   "cell_type": "markdown",
   "metadata": {},
   "source": [
    "###Model:"
   ]
  },
  {
   "cell_type": "code",
   "execution_count": 4,
   "metadata": {
    "collapsed": true
   },
   "outputs": [],
   "source": [
    "def get_data_feed(dataset):\n",
    "    team_data = dataset.ix[:,1:273]\n",
    "    winners = pd.get_dummies(dataset['team1Win'])\n",
    "    return team_data, winners "
   ]
  },
  {
   "cell_type": "code",
   "execution_count": 5,
   "metadata": {},
   "outputs": [
    {
     "name": "stderr",
     "output_type": "stream",
     "text": [
      "C:\\Users\\tim12\\AppData\\Local\\conda\\conda\\envs\\tensorflow_cpu\\lib\\site-packages\\ipykernel_launcher.py:2: DeprecationWarning: \n",
      ".ix is deprecated. Please use\n",
      ".loc for label based indexing or\n",
      ".iloc for positional indexing\n",
      "\n",
      "See the documentation here:\n",
      "http://pandas.pydata.org/pandas-docs/stable/indexing.html#ix-indexer-is-deprecated\n",
      "  \n"
     ]
    }
   ],
   "source": [
    "trainX, trainY = get_data_feed(train)\n",
    "testX, testY = get_data_feed(test)\n"
   ]
  },
  {
   "cell_type": "code",
   "execution_count": 6,
   "metadata": {},
   "outputs": [],
   "source": [
    "def RFmodel(train_x, train_y, test_x, test_y):\n",
    "    model = RandomForestClassifier(min_samples_split=15,\n",
    "                               min_samples_leaf=15,\n",
    "                               criterion=\"gini\",\n",
    "                               n_estimators=200,\n",
    "                               random_state=189,\n",
    "                               max_features=\"auto\")\n",
    "\n",
    "    print(\"Training model.\")\n",
    "    #train model\n",
    "    model.fit(train_x, train_y)\n",
    "    predicted_labels = model.predict(test_x) \n",
    "    print(\"FINISHED classifying. accuracy score : \")\n",
    "    print(accuracy_score(test_y, predicted_labels))"
   ]
  },
  {
   "cell_type": "code",
   "execution_count": 7,
   "metadata": {
    "collapsed": true
   },
   "outputs": [],
   "source": [
    "def GBmodel(train_x, train_y, test_x, test_y):\n",
    "    model = GradientBoostingClassifier(min_samples_split=15,\n",
    "                               min_samples_leaf=15,\n",
    "                               max_features='sqrt',\n",
    "                               n_estimators=200,\n",
    "                               random_state=189,\n",
    "                               subsample=0.8)\n",
    "\n",
    "    print(\"Training model.\")\n",
    "    #train model\n",
    "    model.fit(train_x, train_y)\n",
    "    predicted_labels = model.predict(test_x) \n",
    "    print(\"FINISHED classifying. accuracy score : \")\n",
    "    print(accuracy_score(test_y, predicted_labels))"
   ]
  },
  {
   "cell_type": "code",
   "execution_count": 8,
   "metadata": {},
   "outputs": [
    {
     "name": "stdout",
     "output_type": "stream",
     "text": [
      "Training model.\n",
      "FINISHED classifying. accuracy score : \n",
      "0.5255234469631425\n"
     ]
    }
   ],
   "source": [
    "RFmodel(trainX, trainY, testX, testY)"
   ]
  },
  {
   "cell_type": "code",
   "execution_count": 9,
   "metadata": {
    "collapsed": true
   },
   "outputs": [],
   "source": [
    "def get_data_feedGB(dataset):\n",
    "    team_data = dataset.ix[:,1:273]\n",
    "    winners = dataset['team1Win']\n",
    "    return team_data, winners "
   ]
  },
  {
   "cell_type": "code",
   "execution_count": null,
   "metadata": {},
   "outputs": [],
   "source": [
    "trainX, trainY = get_data_feedGB(train)\n",
    "testX, testY = get_data_feedGB(test)"
   ]
  },
  {
   "cell_type": "code",
   "execution_count": null,
   "metadata": {},
   "outputs": [
    {
     "name": "stdout",
     "output_type": "stream",
     "text": [
      "Training model.\n"
     ]
    }
   ],
   "source": [
    "GBmodel(trainX, trainY, testX, testY)"
   ]
  },
  {
   "cell_type": "code",
   "execution_count": null,
   "metadata": {
    "collapsed": true
   },
   "outputs": [],
   "source": []
  }
 ],
 "metadata": {
  "kernelspec": {
   "display_name": "Python 3",
   "language": "python",
   "name": "python3"
  },
  "language_info": {
   "codemirror_mode": {
    "name": "ipython",
    "version": 3
   },
   "file_extension": ".py",
   "mimetype": "text/x-python",
   "name": "python",
   "nbconvert_exporter": "python",
   "pygments_lexer": "ipython3",
   "version": "3.6.2"
  }
 },
 "nbformat": 4,
 "nbformat_minor": 2
}
