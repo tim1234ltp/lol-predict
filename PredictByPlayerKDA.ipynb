{
 "cells": [
  {
   "cell_type": "markdown",
   "metadata": {},
   "source": [
    "### About\n",
    "\n",
    "This is the notebook for predicting wining side by player performance, namely KDA and minion killed.\n"
   ]
  },
  {
   "cell_type": "code",
   "execution_count": 1,
   "metadata": {},
   "outputs": [
    {
     "name": "stderr",
     "output_type": "stream",
     "text": [
      "C:\\Users\\tim\\Anaconda3\\envs\\lol-predict\\lib\\site-packages\\sklearn\\cross_validation.py:41: DeprecationWarning: This module was deprecated in version 0.18 in favor of the model_selection module into which all the refactored classes and functions are moved. Also note that the interface of the new CV iterators are different from that of this module. This module will be removed in 0.20.\n",
      "  \"This module will be removed in 0.20.\", DeprecationWarning)\n"
     ]
    }
   ],
   "source": [
    "import pandas as pd\n",
    "import numpy as np\n",
    "from sklearn.model_selection import train_test_split\n",
    "from sklearn.linear_model import LogisticRegression\n",
    "from sklearn.linear_model import LinearRegression\n",
    "from sklearn.metrics import mean_squared_error\n",
    "from sklearn.cross_validation import cross_val_score\n",
    "from sklearn.naive_bayes import MultinomialNB\n",
    "from sklearn.metrics import accuracy_score\n",
    "from plotly.offline import init_notebook_mode, iplot\n",
    "import plotly.graph_objs as go"
   ]
  },
  {
   "cell_type": "code",
   "execution_count": 2,
   "metadata": {},
   "outputs": [
    {
     "data": {
      "text/plain": [
       "(1733658, 30)"
      ]
     },
     "execution_count": 2,
     "metadata": {},
     "output_type": "execute_result"
    }
   ],
   "source": [
    "df = pd.read_csv('cleanData.csv')\n",
    "df.shape"
   ]
  },
  {
   "cell_type": "code",
   "execution_count": 3,
   "metadata": {},
   "outputs": [
    {
     "name": "stdout",
     "output_type": "stream",
     "text": [
      "['Unnamed: 0', 'id', 'matchid', 'player', 'championid', 'team_role', 'ss1', 'ss2', 'item1', 'item2', 'item3', 'item4', 'item5', 'item6', 'win', 'kills', 'deaths', 'assists', 'turretkills', 'inhibkills', 'totminionskilled', 'pinksbought', 'wardsplaced', 'duration', 'baronkills', 'harrykills', 'dragonkills', 'firsttower', 'firstinhib', 'firstblood']\n"
     ]
    }
   ],
   "source": [
    "cols = df.columns.tolist()\n",
    "print(cols)\n",
    "\n",
    "#col concerned:\n",
    "#kills, death, assists, totminionskilled, duration"
   ]
  },
  {
   "cell_type": "code",
   "execution_count": 4,
   "metadata": {},
   "outputs": [
    {
     "name": "stdout",
     "output_type": "stream",
     "text": [
      "['1 - JUNGLE', '1 - DUO_SUPPORT', '1 - DUO_CARRY', '1 - TOP', '1 - MID', '2 - JUNGLE', '2 - TOP', '2 - MID', '2 - DUO_CARRY', '2 - DUO_SUPPORT', '1 - BOT', '2 - BOT']\n"
     ]
    }
   ],
   "source": [
    "teamRoleList = df['team_role'].unique().tolist()\n",
    "print(teamRoleList)"
   ]
  },
  {
   "cell_type": "code",
   "execution_count": 5,
   "metadata": {},
   "outputs": [],
   "source": [
    "def assignRoleWithNum(x):\n",
    "    return {\n",
    "        '1 - MID': 100,\n",
    "        '2 - MID': 100,\n",
    "        '1 - JUNGLE': 200,\n",
    "        '2 - JUNGLE': 200,\n",
    "        '1 - TOP': 300,\n",
    "        '2 - TOP': 300,\n",
    "        '1 - DUO_CARRY': 400,\n",
    "        '2 - DUO_CARRY': 400,\n",
    "        '1 - DUO_SUPPORT': 400,\n",
    "        '2 - DUO_SUPPORT': 400,\n",
    "        '1 - BOT': 400,\n",
    "        '2 - BOT': 400\n",
    "    }[x] \n"
   ]
  },
  {
   "cell_type": "markdown",
   "metadata": {},
   "source": [
    "The function above is to assign roles with values so that we would encode the features into regression.\n",
    "\n",
    "Value of 1, 10, 100, 1000 is tried.\n",
    "Turns out that 100 is the best choice (but only 1% accuracy increase, so not much). My educational guess behind this is that kill/death/assists is in range of 0-10. Duration is usually a 4 digits value. Having 100, distinguish this team role feature from others."
   ]
  },
  {
   "cell_type": "code",
   "execution_count": 6,
   "metadata": {},
   "outputs": [
    {
     "data": {
      "text/html": [
       "<div>\n",
       "<style scoped>\n",
       "    .dataframe tbody tr th:only-of-type {\n",
       "        vertical-align: middle;\n",
       "    }\n",
       "\n",
       "    .dataframe tbody tr th {\n",
       "        vertical-align: top;\n",
       "    }\n",
       "\n",
       "    .dataframe thead th {\n",
       "        text-align: right;\n",
       "    }\n",
       "</style>\n",
       "<table border=\"1\" class=\"dataframe\">\n",
       "  <thead>\n",
       "    <tr style=\"text-align: right;\">\n",
       "      <th></th>\n",
       "      <th>win</th>\n",
       "      <th>kills</th>\n",
       "      <th>deaths</th>\n",
       "      <th>assists</th>\n",
       "      <th>totminionskilled</th>\n",
       "      <th>duration</th>\n",
       "    </tr>\n",
       "  </thead>\n",
       "  <tbody>\n",
       "    <tr>\n",
       "      <th>200776</th>\n",
       "      <td>1.0</td>\n",
       "      <td>7.0</td>\n",
       "      <td>0.0</td>\n",
       "      <td>2.0</td>\n",
       "      <td>131.0</td>\n",
       "      <td>1091</td>\n",
       "    </tr>\n",
       "    <tr>\n",
       "      <th>1269266</th>\n",
       "      <td>0.0</td>\n",
       "      <td>11.0</td>\n",
       "      <td>11.0</td>\n",
       "      <td>6.0</td>\n",
       "      <td>211.0</td>\n",
       "      <td>2113</td>\n",
       "    </tr>\n",
       "    <tr>\n",
       "      <th>1711300</th>\n",
       "      <td>1.0</td>\n",
       "      <td>0.0</td>\n",
       "      <td>0.0</td>\n",
       "      <td>0.0</td>\n",
       "      <td>0.0</td>\n",
       "      <td>197</td>\n",
       "    </tr>\n",
       "    <tr>\n",
       "      <th>1631117</th>\n",
       "      <td>0.0</td>\n",
       "      <td>1.0</td>\n",
       "      <td>10.0</td>\n",
       "      <td>4.0</td>\n",
       "      <td>178.0</td>\n",
       "      <td>1667</td>\n",
       "    </tr>\n",
       "    <tr>\n",
       "      <th>1142502</th>\n",
       "      <td>0.0</td>\n",
       "      <td>0.0</td>\n",
       "      <td>0.0</td>\n",
       "      <td>0.0</td>\n",
       "      <td>0.0</td>\n",
       "      <td>195</td>\n",
       "    </tr>\n",
       "    <tr>\n",
       "      <th>890377</th>\n",
       "      <td>1.0</td>\n",
       "      <td>7.0</td>\n",
       "      <td>7.0</td>\n",
       "      <td>8.0</td>\n",
       "      <td>166.0</td>\n",
       "      <td>1846</td>\n",
       "    </tr>\n",
       "    <tr>\n",
       "      <th>891277</th>\n",
       "      <td>1.0</td>\n",
       "      <td>8.0</td>\n",
       "      <td>4.0</td>\n",
       "      <td>11.0</td>\n",
       "      <td>293.0</td>\n",
       "      <td>2000</td>\n",
       "    </tr>\n",
       "    <tr>\n",
       "      <th>738322</th>\n",
       "      <td>1.0</td>\n",
       "      <td>9.0</td>\n",
       "      <td>6.0</td>\n",
       "      <td>6.0</td>\n",
       "      <td>171.0</td>\n",
       "      <td>2179</td>\n",
       "    </tr>\n",
       "    <tr>\n",
       "      <th>1310871</th>\n",
       "      <td>0.0</td>\n",
       "      <td>4.0</td>\n",
       "      <td>8.0</td>\n",
       "      <td>2.0</td>\n",
       "      <td>119.0</td>\n",
       "      <td>1445</td>\n",
       "    </tr>\n",
       "    <tr>\n",
       "      <th>782005</th>\n",
       "      <td>1.0</td>\n",
       "      <td>0.0</td>\n",
       "      <td>4.0</td>\n",
       "      <td>8.0</td>\n",
       "      <td>8.0</td>\n",
       "      <td>1933</td>\n",
       "    </tr>\n",
       "  </tbody>\n",
       "</table>\n",
       "</div>"
      ],
      "text/plain": [
       "         win  kills  deaths  assists  totminionskilled  duration\n",
       "200776   1.0    7.0     0.0      2.0             131.0      1091\n",
       "1269266  0.0   11.0    11.0      6.0             211.0      2113\n",
       "1711300  1.0    0.0     0.0      0.0               0.0       197\n",
       "1631117  0.0    1.0    10.0      4.0             178.0      1667\n",
       "1142502  0.0    0.0     0.0      0.0               0.0       195\n",
       "890377   1.0    7.0     7.0      8.0             166.0      1846\n",
       "891277   1.0    8.0     4.0     11.0             293.0      2000\n",
       "738322   1.0    9.0     6.0      6.0             171.0      2179\n",
       "1310871  0.0    4.0     8.0      2.0             119.0      1445\n",
       "782005   1.0    0.0     4.0      8.0               8.0      1933"
      ]
     },
     "execution_count": 6,
     "metadata": {},
     "output_type": "execute_result"
    }
   ],
   "source": [
    "df['role'] = df['team_role'].apply(assignRoleWithNum)\n",
    "dataset = df[['win','kills','deaths','assists','totminionskilled','duration']]\n",
    "dataset = dataset.dropna() #drop all nan rows\n",
    "dataset = dataset.take(np.random.permutation(len(dataset)))#randomize rows\n",
    "dataset.head(10)"
   ]
  },
  {
   "cell_type": "code",
   "execution_count": 7,
   "metadata": {},
   "outputs": [
    {
     "name": "stdout",
     "output_type": "stream",
     "text": [
      "train: (1560289, 6) test: (173366, 6)\n"
     ]
    }
   ],
   "source": [
    "train, test = train_test_split(dataset, test_size = 0.1)\n",
    "print('train:', train.shape, 'test:', test.shape)"
   ]
  },
  {
   "cell_type": "code",
   "execution_count": 8,
   "metadata": {},
   "outputs": [],
   "source": [
    "def get_data_feed(dataset):\n",
    "    team_data = dataset.iloc[:,1:] #exclude first column which is win\n",
    "    winners = dataset['win']\n",
    "    return team_data, winners \n",
    "\n",
    "trainX, trainY = get_data_feed(train)\n",
    "testX, testY = get_data_feed(test)"
   ]
  },
  {
   "cell_type": "code",
   "execution_count": 9,
   "metadata": {},
   "outputs": [
    {
     "name": "stdout",
     "output_type": "stream",
     "text": [
      "Logistic Regression Train accuracy: 0.789665247171\n",
      "MultinominalNB Train accuracy: 0.663800742968\n"
     ]
    }
   ],
   "source": [
    "LRTrainAccuracy = np.mean(cross_val_score(LogisticRegression(), trainX, trainY, scoring='accuracy', cv=2))\n",
    "MNTrainAccuracy = np.mean(cross_val_score(MultinomialNB(), trainX, trainY, scoring='accuracy', cv=2))\n",
    "LRTestAccuracy = np.mean(cross_val_score(LogisticRegression(), testX, testY, scoring='accuracy', cv=2))\n",
    "MNTestAccuracy = np.mean(cross_val_score(MultinomialNB(), testX, testY, scoring='accuracy', cv=2))\n",
    "\n",
    "print('Logistic Regression Train accuracy:', LRTrainAccuracy)\n",
    "print('MultinominalNB Train accuracy:', MNTrainAccuracy)"
   ]
  },
  {
   "cell_type": "code",
   "execution_count": 10,
   "metadata": {},
   "outputs": [
    {
     "data": {
      "text/html": [
       "<script>requirejs.config({paths: { 'plotly': ['https://cdn.plot.ly/plotly-latest.min']},});if(!window.Plotly) {{require(['plotly'],function(plotly) {window.Plotly=plotly;});}}</script>"
      ],
      "text/vnd.plotly.v1+html": [
       "<script>requirejs.config({paths: { 'plotly': ['https://cdn.plot.ly/plotly-latest.min']},});if(!window.Plotly) {{require(['plotly'],function(plotly) {window.Plotly=plotly;});}}</script>"
      ]
     },
     "metadata": {},
     "output_type": "display_data"
    },
    {
     "data": {
      "application/vnd.plotly.v1+json": {
       "data": [
        {
         "name": "Train",
         "type": "bar",
         "x": [
          "Logistic Regression",
          "MultinomialNB"
         ],
         "y": [
          0.7896652471708947,
          0.6638007429682127
         ]
        },
        {
         "name": "Test",
         "type": "bar",
         "x": [
          "Logistic Regression",
          "MultinomialNB"
         ],
         "y": [
          0.7892550833961081,
          0.6820945080675204
         ]
        }
       ],
       "layout": {
        "barmode": "group",
        "title": "Accuracy Comparsions",
        "xaxis": {
         "title": "Method"
        },
        "yaxis": {
         "range": [
          0.5,
          0.8
         ],
         "title": "Accuracy"
        }
       }
      },
      "text/html": [
       "<div id=\"79f6ca70-3cd2-4edc-ae23-6a378c44788f\" style=\"height: 525px; width: 100%;\" class=\"plotly-graph-div\"></div><script type=\"text/javascript\">require([\"plotly\"], function(Plotly) { window.PLOTLYENV=window.PLOTLYENV || {};window.PLOTLYENV.BASE_URL=\"https://plot.ly\";Plotly.newPlot(\"79f6ca70-3cd2-4edc-ae23-6a378c44788f\", [{\"type\": \"bar\", \"x\": [\"Logistic Regression\", \"MultinomialNB\"], \"y\": [0.7896652471708947, 0.6638007429682127], \"name\": \"Train\"}, {\"type\": \"bar\", \"x\": [\"Logistic Regression\", \"MultinomialNB\"], \"y\": [0.7892550833961081, 0.6820945080675204], \"name\": \"Test\"}], {\"title\": \"Accuracy Comparsions\", \"barmode\": \"group\", \"yaxis\": {\"title\": \"Accuracy\", \"range\": [0.5, 0.8]}, \"xaxis\": {\"title\": \"Method\"}}, {\"showLink\": true, \"linkText\": \"Export to plot.ly\"})});</script>"
      ],
      "text/vnd.plotly.v1+html": [
       "<div id=\"79f6ca70-3cd2-4edc-ae23-6a378c44788f\" style=\"height: 525px; width: 100%;\" class=\"plotly-graph-div\"></div><script type=\"text/javascript\">require([\"plotly\"], function(Plotly) { window.PLOTLYENV=window.PLOTLYENV || {};window.PLOTLYENV.BASE_URL=\"https://plot.ly\";Plotly.newPlot(\"79f6ca70-3cd2-4edc-ae23-6a378c44788f\", [{\"type\": \"bar\", \"x\": [\"Logistic Regression\", \"MultinomialNB\"], \"y\": [0.7896652471708947, 0.6638007429682127], \"name\": \"Train\"}, {\"type\": \"bar\", \"x\": [\"Logistic Regression\", \"MultinomialNB\"], \"y\": [0.7892550833961081, 0.6820945080675204], \"name\": \"Test\"}], {\"title\": \"Accuracy Comparsions\", \"barmode\": \"group\", \"yaxis\": {\"title\": \"Accuracy\", \"range\": [0.5, 0.8]}, \"xaxis\": {\"title\": \"Method\"}}, {\"showLink\": true, \"linkText\": \"Export to plot.ly\"})});</script>"
      ]
     },
     "metadata": {},
     "output_type": "display_data"
    }
   ],
   "source": [
    "init_notebook_mode(connected=True)\n",
    "trace1 = go.Bar(\n",
    "    x=['Logistic Regression', 'MultinomialNB'],\n",
    "    y=[LRTrainAccuracy, MNTrainAccuracy],\n",
    "    name='Train'\n",
    ")\n",
    "trace2 = go.Bar(\n",
    "    x=['Logistic Regression', 'MultinomialNB'],\n",
    "    y=[LRTestAccuracy, MNTestAccuracy],\n",
    "    name='Test'\n",
    ")\n",
    "\n",
    "data = [trace1, trace2]\n",
    "layout = go.Layout(\n",
    "    title='Accuracy Comparsions',\n",
    "    barmode='group',\n",
    "    yaxis=dict(\n",
    "        title='Accuracy',\n",
    "        range=[0.5, 0.8]\n",
    "    ),\n",
    "    xaxis=dict(\n",
    "        title='Method'\n",
    "    )\n",
    ")\n",
    "\n",
    "fig = go.Figure(data=data, layout=layout)\n",
    "iplot(fig)"
   ]
  },
  {
   "cell_type": "markdown",
   "metadata": {},
   "source": [
    "We can see logistic regression has done a great job here with much higher consistency."
   ]
  },
  {
   "cell_type": "markdown",
   "metadata": {},
   "source": [
    "### Let us try to put team role into use to see if we can know relationship between KDA, roles and win/lose."
   ]
  },
  {
   "cell_type": "code",
   "execution_count": 11,
   "metadata": {},
   "outputs": [
    {
     "data": {
      "text/html": [
       "<div>\n",
       "<style scoped>\n",
       "    .dataframe tbody tr th:only-of-type {\n",
       "        vertical-align: middle;\n",
       "    }\n",
       "\n",
       "    .dataframe tbody tr th {\n",
       "        vertical-align: top;\n",
       "    }\n",
       "\n",
       "    .dataframe thead th {\n",
       "        text-align: right;\n",
       "    }\n",
       "</style>\n",
       "<table border=\"1\" class=\"dataframe\">\n",
       "  <thead>\n",
       "    <tr style=\"text-align: right;\">\n",
       "      <th></th>\n",
       "      <th>win</th>\n",
       "      <th>kills</th>\n",
       "      <th>deaths</th>\n",
       "      <th>assists</th>\n",
       "      <th>totminionskilled</th>\n",
       "      <th>duration</th>\n",
       "      <th>role</th>\n",
       "    </tr>\n",
       "  </thead>\n",
       "  <tbody>\n",
       "    <tr>\n",
       "      <th>1443228</th>\n",
       "      <td>0.0</td>\n",
       "      <td>0.0</td>\n",
       "      <td>3.0</td>\n",
       "      <td>4.0</td>\n",
       "      <td>14.0</td>\n",
       "      <td>1728</td>\n",
       "      <td>400</td>\n",
       "    </tr>\n",
       "    <tr>\n",
       "      <th>438862</th>\n",
       "      <td>0.0</td>\n",
       "      <td>14.0</td>\n",
       "      <td>7.0</td>\n",
       "      <td>9.0</td>\n",
       "      <td>183.0</td>\n",
       "      <td>1844</td>\n",
       "      <td>400</td>\n",
       "    </tr>\n",
       "    <tr>\n",
       "      <th>1048628</th>\n",
       "      <td>1.0</td>\n",
       "      <td>8.0</td>\n",
       "      <td>2.0</td>\n",
       "      <td>7.0</td>\n",
       "      <td>29.0</td>\n",
       "      <td>1811</td>\n",
       "      <td>200</td>\n",
       "    </tr>\n",
       "    <tr>\n",
       "      <th>436459</th>\n",
       "      <td>0.0</td>\n",
       "      <td>3.0</td>\n",
       "      <td>11.0</td>\n",
       "      <td>7.0</td>\n",
       "      <td>168.0</td>\n",
       "      <td>2241</td>\n",
       "      <td>400</td>\n",
       "    </tr>\n",
       "    <tr>\n",
       "      <th>1028648</th>\n",
       "      <td>0.0</td>\n",
       "      <td>1.0</td>\n",
       "      <td>5.0</td>\n",
       "      <td>4.0</td>\n",
       "      <td>154.0</td>\n",
       "      <td>1528</td>\n",
       "      <td>400</td>\n",
       "    </tr>\n",
       "    <tr>\n",
       "      <th>530892</th>\n",
       "      <td>1.0</td>\n",
       "      <td>13.0</td>\n",
       "      <td>0.0</td>\n",
       "      <td>14.0</td>\n",
       "      <td>328.0</td>\n",
       "      <td>2555</td>\n",
       "      <td>100</td>\n",
       "    </tr>\n",
       "    <tr>\n",
       "      <th>307202</th>\n",
       "      <td>0.0</td>\n",
       "      <td>3.0</td>\n",
       "      <td>8.0</td>\n",
       "      <td>2.0</td>\n",
       "      <td>134.0</td>\n",
       "      <td>1458</td>\n",
       "      <td>400</td>\n",
       "    </tr>\n",
       "    <tr>\n",
       "      <th>173406</th>\n",
       "      <td>0.0</td>\n",
       "      <td>5.0</td>\n",
       "      <td>2.0</td>\n",
       "      <td>7.0</td>\n",
       "      <td>205.0</td>\n",
       "      <td>1669</td>\n",
       "      <td>400</td>\n",
       "    </tr>\n",
       "    <tr>\n",
       "      <th>1444774</th>\n",
       "      <td>0.0</td>\n",
       "      <td>5.0</td>\n",
       "      <td>5.0</td>\n",
       "      <td>2.0</td>\n",
       "      <td>81.0</td>\n",
       "      <td>1481</td>\n",
       "      <td>200</td>\n",
       "    </tr>\n",
       "    <tr>\n",
       "      <th>1653931</th>\n",
       "      <td>0.0</td>\n",
       "      <td>4.0</td>\n",
       "      <td>5.0</td>\n",
       "      <td>8.0</td>\n",
       "      <td>56.0</td>\n",
       "      <td>1664</td>\n",
       "      <td>400</td>\n",
       "    </tr>\n",
       "  </tbody>\n",
       "</table>\n",
       "</div>"
      ],
      "text/plain": [
       "         win  kills  deaths  assists  totminionskilled  duration  role\n",
       "1443228  0.0    0.0     3.0      4.0              14.0      1728   400\n",
       "438862   0.0   14.0     7.0      9.0             183.0      1844   400\n",
       "1048628  1.0    8.0     2.0      7.0              29.0      1811   200\n",
       "436459   0.0    3.0    11.0      7.0             168.0      2241   400\n",
       "1028648  0.0    1.0     5.0      4.0             154.0      1528   400\n",
       "530892   1.0   13.0     0.0     14.0             328.0      2555   100\n",
       "307202   0.0    3.0     8.0      2.0             134.0      1458   400\n",
       "173406   0.0    5.0     2.0      7.0             205.0      1669   400\n",
       "1444774  0.0    5.0     5.0      2.0              81.0      1481   200\n",
       "1653931  0.0    4.0     5.0      8.0              56.0      1664   400"
      ]
     },
     "execution_count": 11,
     "metadata": {},
     "output_type": "execute_result"
    }
   ],
   "source": [
    "newDataset = df[['win','kills','deaths','assists','totminionskilled','duration', 'role']]\n",
    "newDataset = newDataset.dropna() #drop all nan rows\n",
    "newDataset = newDataset.take(np.random.permutation(len(newDataset))) #randomize rows\n",
    "newDataset.head(10)"
   ]
  },
  {
   "cell_type": "code",
   "execution_count": 12,
   "metadata": {},
   "outputs": [],
   "source": [
    "train, test = train_test_split(newDataset, test_size = 0.1)"
   ]
  },
  {
   "cell_type": "code",
   "execution_count": 13,
   "metadata": {},
   "outputs": [],
   "source": [
    "NewTrainX, NewTrainY = get_data_feed(train)\n",
    "NewTestX, NewTestY = get_data_feed(test)\n",
    "\n",
    "LRTrainAccuracy = np.mean(cross_val_score(LogisticRegression(), NewTrainX, NewTrainY, scoring='accuracy', cv=2))\n",
    "MNTrainAccuracy = np.mean(cross_val_score(MultinomialNB(), NewTrainX, NewTrainY, scoring='accuracy', cv=2))\n",
    "LRTestAccuracy = np.mean(cross_val_score(LogisticRegression(), NewTestX, NewTestY, scoring='accuracy', cv=2))\n",
    "MNTestAccuracy = np.mean(cross_val_score(MultinomialNB(), NewTestX, NewTestY, scoring='accuracy', cv=2))"
   ]
  },
  {
   "cell_type": "code",
   "execution_count": 14,
   "metadata": {},
   "outputs": [
    {
     "data": {
      "application/vnd.plotly.v1+json": {
       "data": [
        {
         "name": "Train",
         "type": "bar",
         "x": [
          "Logistic Regression",
          "MultinomialNB"
         ],
         "y": [
          0.7895934662272049,
          0.6638635521681449
         ]
        },
        {
         "name": "Test",
         "type": "bar",
         "x": [
          "Logistic Regression",
          "MultinomialNB"
         ],
         "y": [
          0.7905067891051303,
          0.6529596345304154
         ]
        }
       ],
       "layout": {
        "barmode": "group",
        "title": "Accuracy Comparsions",
        "xaxis": {
         "title": "Method"
        },
        "yaxis": {
         "range": [
          0.5,
          0.8
         ],
         "title": "Accuracy"
        }
       }
      },
      "text/html": [
       "<div id=\"6293463c-f14a-41fa-b46e-64add59bae3e\" style=\"height: 525px; width: 100%;\" class=\"plotly-graph-div\"></div><script type=\"text/javascript\">require([\"plotly\"], function(Plotly) { window.PLOTLYENV=window.PLOTLYENV || {};window.PLOTLYENV.BASE_URL=\"https://plot.ly\";Plotly.newPlot(\"6293463c-f14a-41fa-b46e-64add59bae3e\", [{\"type\": \"bar\", \"x\": [\"Logistic Regression\", \"MultinomialNB\"], \"y\": [0.7895934662272049, 0.6638635521681449], \"name\": \"Train\"}, {\"type\": \"bar\", \"x\": [\"Logistic Regression\", \"MultinomialNB\"], \"y\": [0.7905067891051303, 0.6529596345304154], \"name\": \"Test\"}], {\"title\": \"Accuracy Comparsions\", \"barmode\": \"group\", \"yaxis\": {\"title\": \"Accuracy\", \"range\": [0.5, 0.8]}, \"xaxis\": {\"title\": \"Method\"}}, {\"showLink\": true, \"linkText\": \"Export to plot.ly\"})});</script>"
      ],
      "text/vnd.plotly.v1+html": [
       "<div id=\"6293463c-f14a-41fa-b46e-64add59bae3e\" style=\"height: 525px; width: 100%;\" class=\"plotly-graph-div\"></div><script type=\"text/javascript\">require([\"plotly\"], function(Plotly) { window.PLOTLYENV=window.PLOTLYENV || {};window.PLOTLYENV.BASE_URL=\"https://plot.ly\";Plotly.newPlot(\"6293463c-f14a-41fa-b46e-64add59bae3e\", [{\"type\": \"bar\", \"x\": [\"Logistic Regression\", \"MultinomialNB\"], \"y\": [0.7895934662272049, 0.6638635521681449], \"name\": \"Train\"}, {\"type\": \"bar\", \"x\": [\"Logistic Regression\", \"MultinomialNB\"], \"y\": [0.7905067891051303, 0.6529596345304154], \"name\": \"Test\"}], {\"title\": \"Accuracy Comparsions\", \"barmode\": \"group\", \"yaxis\": {\"title\": \"Accuracy\", \"range\": [0.5, 0.8]}, \"xaxis\": {\"title\": \"Method\"}}, {\"showLink\": true, \"linkText\": \"Export to plot.ly\"})});</script>"
      ]
     },
     "metadata": {},
     "output_type": "display_data"
    }
   ],
   "source": [
    "trace1 = go.Bar(\n",
    "    x=['Logistic Regression', 'MultinomialNB'],\n",
    "    y=[LRTrainAccuracy, MNTrainAccuracy],\n",
    "    name='Train'\n",
    ")\n",
    "trace2 = go.Bar(\n",
    "    x=['Logistic Regression', 'MultinomialNB'],\n",
    "    y=[LRTestAccuracy, MNTestAccuracy],\n",
    "    name='Test'\n",
    ")\n",
    "\n",
    "data = [trace1, trace2]\n",
    "layout = go.Layout(\n",
    "    title='Accuracy Comparsions',\n",
    "    barmode='group',\n",
    "    yaxis=dict(\n",
    "        title='Accuracy',\n",
    "        range=[0.5, 0.8]\n",
    "    ),\n",
    "    xaxis=dict(\n",
    "        title='Method'\n",
    "    )\n",
    ")\n",
    "\n",
    "fig = go.Figure(data=data, layout=layout)\n",
    "iplot(fig)"
   ]
  },
  {
   "cell_type": "markdown",
   "metadata": {},
   "source": [
    "### Conclusion\n",
    "\n",
    "As we can see, considering team role of players does not give us a increase in accuracy.\n",
    "And using logistic regression, we have about 79% accuracy which is quite good."
   ]
  },
  {
   "cell_type": "code",
   "execution_count": null,
   "metadata": {},
   "outputs": [],
   "source": []
  }
 ],
 "metadata": {
  "kernelspec": {
   "display_name": "Python 3",
   "language": "python",
   "name": "python3"
  },
  "language_info": {
   "codemirror_mode": {
    "name": "ipython",
    "version": 3
   },
   "file_extension": ".py",
   "mimetype": "text/x-python",
   "name": "python",
   "nbconvert_exporter": "python",
   "pygments_lexer": "ipython3",
   "version": "3.6.5"
  }
 },
 "nbformat": 4,
 "nbformat_minor": 2
}
